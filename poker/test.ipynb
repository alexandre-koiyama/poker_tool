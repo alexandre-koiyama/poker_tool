{
 "cells": [
  {
   "cell_type": "code",
   "execution_count": null,
   "id": "0de1cf8c",
   "metadata": {},
   "outputs": [],
   "source": []
  },
  {
   "cell_type": "code",
   "execution_count": 2,
   "id": "6d923e34",
   "metadata": {},
   "outputs": [],
   "source": [
    "a =['As','Ad']"
   ]
  },
  {
   "cell_type": "code",
   "execution_count": 3,
   "id": "71531f74",
   "metadata": {},
   "outputs": [
    {
     "data": {
      "text/plain": [
       "['Ad', 'As']"
      ]
     },
     "execution_count": 3,
     "metadata": {},
     "output_type": "execute_result"
    }
   ],
   "source": [
    "a[::-1]"
   ]
  },
  {
   "cell_type": "code",
   "execution_count": 5,
   "id": "eba8151d",
   "metadata": {},
   "outputs": [
    {
     "name": "stderr",
     "output_type": "stream",
     "text": [
      "2025-04-30 15:29:47.341 WARNING streamlit.runtime.scriptrunner_utils.script_run_context: Thread 'MainThread': missing ScriptRunContext! This warning can be ignored when running in bare mode.\n",
      "2025-04-30 15:29:47.390 WARNING streamlit.runtime.scriptrunner_utils.script_run_context: Thread 'MainThread': missing ScriptRunContext! This warning can be ignored when running in bare mode.\n",
      "2025-04-30 15:29:47.393 WARNING streamlit.runtime.scriptrunner_utils.script_run_context: Thread 'MainThread': missing ScriptRunContext! This warning can be ignored when running in bare mode.\n",
      "2025-04-30 15:29:47.398 WARNING streamlit.runtime.scriptrunner_utils.script_run_context: Thread 'MainThread': missing ScriptRunContext! This warning can be ignored when running in bare mode.\n",
      "2025-04-30 15:29:47.516 \n",
      "  \u001b[33m\u001b[1mWarning:\u001b[0m to view this Streamlit app on a browser, run it with the following\n",
      "  command:\n",
      "\n",
      "    streamlit run /usr/local/Caskroom/miniconda/base/envs/poker_ven/lib/python3.11/site-packages/ipykernel_launcher.py [ARGUMENTS]\n",
      "2025-04-30 15:29:47.517 Thread 'MainThread': missing ScriptRunContext! This warning can be ignored when running in bare mode.\n"
     ]
    }
   ],
   "source": [
    "import streamlit as st\n",
    "\n",
    "st.feedback(options=\"thumbs\")"
   ]
  },
  {
   "cell_type": "code",
   "execution_count": 4,
   "id": "895114b3",
   "metadata": {},
   "outputs": [],
   "source": [
    "from deck import Deck\n",
    "import random\n",
    "d = Deck()\n",
    "\n",
    "xx = d.get_allcombination_2cards()"
   ]
  },
  {
   "cell_type": "code",
   "execution_count": 7,
   "id": "0a7e282f",
   "metadata": {},
   "outputs": [
    {
     "data": {
      "text/plain": [
       "[[81922, 33573149]]"
      ]
     },
     "execution_count": 7,
     "metadata": {},
     "output_type": "execute_result"
    }
   ],
   "source": [
    "random.choices(xx)"
   ]
  },
  {
   "cell_type": "code",
   "execution_count": 6,
   "id": "2110d49b",
   "metadata": {},
   "outputs": [],
   "source": [
    "from hand_tiers import Tiers\n",
    "from card import Card\n",
    "\n",
    "t = Tiers()\n"
   ]
  },
  {
   "cell_type": "code",
   "execution_count": 10,
   "id": "6c0e33da",
   "metadata": {},
   "outputs": [],
   "source": [
    "xx = t.get_medium_group()\n",
    "xx  = xx[:5]"
   ]
  },
  {
   "cell_type": "code",
   "execution_count": 11,
   "id": "23554739",
   "metadata": {},
   "outputs": [
    {
     "data": {
      "text/plain": [
       "[['Ac', 'Ad'], ['Ac', 'Ah'], ['Ac', 'As'], ['Ad', 'Ah'], ['Ad', 'As']]"
      ]
     },
     "execution_count": 11,
     "metadata": {},
     "output_type": "execute_result"
    }
   ],
   "source": [
    "xx"
   ]
  },
  {
   "cell_type": "code",
   "execution_count": 12,
   "id": "929ec368",
   "metadata": {},
   "outputs": [],
   "source": [
    " tier_card_values = [[Card.create(pair_t[0]), Card.create(pair_t[1])] for pair_t in xx] "
   ]
  },
  {
   "cell_type": "code",
   "execution_count": 20,
   "id": "c14a2c9a",
   "metadata": {},
   "outputs": [
    {
     "data": {
      "text/plain": [
       "[268471337, 268454953]"
      ]
     },
     "execution_count": 20,
     "metadata": {},
     "output_type": "execute_result"
    }
   ],
   "source": [
    " tier_card_values[0]"
   ]
  },
  {
   "cell_type": "code",
   "execution_count": 21,
   "id": "b64f896b",
   "metadata": {},
   "outputs": [
    {
     "data": {
      "text/plain": [
       "[268454953, 268471337]"
      ]
     },
     "execution_count": 21,
     "metadata": {},
     "output_type": "execute_result"
    }
   ],
   "source": [
    " tier_card_values[0][::-1]"
   ]
  },
  {
   "cell_type": "code",
   "execution_count": 21,
   "id": "2f2f960a",
   "metadata": {},
   "outputs": [
    {
     "data": {
      "text/plain": [
       "[['Kd', '5c'], ['Kd', '5s'], ['Kh', '5c'], ['Kh', '5s'], ['Ks', '5c']]"
      ]
     },
     "execution_count": 21,
     "metadata": {},
     "output_type": "execute_result"
    }
   ],
   "source": [
    "[x.split(',') for x in xx]"
   ]
  },
  {
   "cell_type": "code",
   "execution_count": 19,
   "id": "a45b6a0f",
   "metadata": {},
   "outputs": [
    {
     "data": {
      "text/plain": [
       "['5c,Kd', '5s,Kd', '5c,Kh', '5s,Kh', '5c,Ks']"
      ]
     },
     "execution_count": 19,
     "metadata": {},
     "output_type": "execute_result"
    }
   ],
   "source": [
    "[x.split(',')[1]+','+x.split(',')[0] for x in xx]"
   ]
  },
  {
   "cell_type": "code",
   "execution_count": 6,
   "id": "f2dc05a4",
   "metadata": {},
   "outputs": [
    {
     "ename": "AttributeError",
     "evalue": "'NoneType' object has no attribute 'extend'",
     "output_type": "error",
     "traceback": [
      "\u001b[31m---------------------------------------------------------------------------\u001b[39m",
      "\u001b[31mAttributeError\u001b[39m                            Traceback (most recent call last)",
      "\u001b[36mCell\u001b[39m\u001b[36m \u001b[39m\u001b[32mIn[6]\u001b[39m\u001b[32m, line 5\u001b[39m\n\u001b[32m      1\u001b[39m \u001b[38;5;28;01mfrom\u001b[39;00m\u001b[38;5;250m \u001b[39m\u001b[34;01msimulator\u001b[39;00m\u001b[38;5;250m \u001b[39m\u001b[38;5;28;01mimport\u001b[39;00m PokerSimulator\n\u001b[32m      3\u001b[39m simulator = PokerSimulator()\n\u001b[32m----> \u001b[39m\u001b[32m5\u001b[39m \u001b[43msimulator\u001b[49m\u001b[43m.\u001b[49m\u001b[43mcalculate_win_probability\u001b[49m\u001b[43m(\u001b[49m\n\u001b[32m      6\u001b[39m \u001b[43m    \u001b[49m\u001b[43mmy_cards\u001b[49m\u001b[43m=\u001b[49m\u001b[43m[\u001b[49m\u001b[33;43m'\u001b[39;49m\u001b[33;43mAs\u001b[39;49m\u001b[33;43m'\u001b[39;49m\u001b[43m,\u001b[49m\u001b[33;43m'\u001b[39;49m\u001b[33;43mAd\u001b[39;49m\u001b[33;43m'\u001b[39;49m\u001b[43m]\u001b[49m\u001b[43m,\u001b[49m\n\u001b[32m      7\u001b[39m \u001b[43m    \u001b[49m\u001b[43mflop_cards\u001b[49m\u001b[43m=\u001b[49m\u001b[38;5;28;43;01mNone\u001b[39;49;00m\u001b[43m,\u001b[49m\n\u001b[32m      8\u001b[39m \u001b[43m    \u001b[49m\u001b[43mturn_card\u001b[49m\u001b[43m=\u001b[49m\u001b[38;5;28;43;01mNone\u001b[39;49;00m\u001b[43m,\u001b[49m\n\u001b[32m      9\u001b[39m \u001b[43m    \u001b[49m\u001b[43mriver_card\u001b[49m\u001b[43m=\u001b[49m\u001b[38;5;28;43;01mNone\u001b[39;49;00m\u001b[43m,\u001b[49m\n\u001b[32m     10\u001b[39m \u001b[43m    \u001b[49m\u001b[43mnum_players\u001b[49m\u001b[43m=\u001b[49m\u001b[32;43m9\u001b[39;49m\u001b[43m,\u001b[49m\n\u001b[32m     11\u001b[39m \u001b[43m    \u001b[49m\u001b[43mtier\u001b[49m\u001b[43m=\u001b[49m\u001b[33;43m'\u001b[39;49m\u001b[33;43mlow\u001b[39;49m\u001b[33;43m'\u001b[39;49m\n\u001b[32m     12\u001b[39m \u001b[43m)\u001b[49m\n",
      "\u001b[36mFile \u001b[39m\u001b[32m~/Desktop/PROJECTS/poker_tool/poker/simulator.py:40\u001b[39m, in \u001b[36mPokerSimulator.calculate_win_probability\u001b[39m\u001b[34m(self, my_cards, flop_cards, turn_card, river_card, num_players, tier)\u001b[39m\n\u001b[32m     38\u001b[39m     tier = very_low_tier.extend(low_tier).extend(medium_tier).extend(high_tier).extend(very_high_tier)\n\u001b[32m     39\u001b[39m \u001b[38;5;28;01melif\u001b[39;00m tier == \u001b[33m'\u001b[39m\u001b[33mlow\u001b[39m\u001b[33m'\u001b[39m:\n\u001b[32m---> \u001b[39m\u001b[32m40\u001b[39m     tier = \u001b[43mlow_tier\u001b[49m\u001b[43m.\u001b[49m\u001b[43mextend\u001b[49m\u001b[43m(\u001b[49m\u001b[43mmedium_tier\u001b[49m\u001b[43m)\u001b[49m\u001b[43m.\u001b[49m\u001b[43mextend\u001b[49m(high_tier).extend(very_high_tier)\n\u001b[32m     41\u001b[39m \u001b[38;5;28;01melif\u001b[39;00m tier == \u001b[33m'\u001b[39m\u001b[33mmedium\u001b[39m\u001b[33m'\u001b[39m:\n\u001b[32m     42\u001b[39m     tier = medium_tier.extend(high_tier).extend(very_high_tier)\n",
      "\u001b[31mAttributeError\u001b[39m: 'NoneType' object has no attribute 'extend'"
     ]
    }
   ],
   "source": [
    "from simulator import PokerSimulator\n",
    "\n",
    "simulator = PokerSimulator()\n",
    "\n",
    "simulator.calculate_win_probability(\n",
    "    my_cards=['As','Ad'],\n",
    "    flop_cards=None,\n",
    "    turn_card=None,\n",
    "    river_card=None,\n",
    "    num_players=9,\n",
    "    tier='low'\n",
    ")"
   ]
  },
  {
   "cell_type": "code",
   "execution_count": 14,
   "id": "95b50f24",
   "metadata": {},
   "outputs": [
    {
     "data": {
      "text/plain": [
       "<treys.deck.Deck at 0x112467dd0>"
      ]
     },
     "execution_count": 14,
     "metadata": {},
     "output_type": "execute_result"
    }
   ],
   "source": [
    "from deck import Deck\n",
    "\n",
    "d = Deck()\n",
    "d.deck"
   ]
  },
  {
   "cell_type": "code",
   "execution_count": 19,
   "id": "b60bd71b",
   "metadata": {},
   "outputs": [
    {
     "data": {
      "text/plain": [
       "[1065995]"
      ]
     },
     "execution_count": 19,
     "metadata": {},
     "output_type": "execute_result"
    }
   ],
   "source": [
    "d.draw()"
   ]
  },
  {
   "cell_type": "code",
   "execution_count": null,
   "id": "5de90d70",
   "metadata": {},
   "outputs": [],
   "source": []
  }
 ],
 "metadata": {
  "kernelspec": {
   "display_name": "poker_ven",
   "language": "python",
   "name": "python3"
  },
  "language_info": {
   "codemirror_mode": {
    "name": "ipython",
    "version": 3
   },
   "file_extension": ".py",
   "mimetype": "text/x-python",
   "name": "python",
   "nbconvert_exporter": "python",
   "pygments_lexer": "ipython3",
   "version": "3.11.11"
  }
 },
 "nbformat": 4,
 "nbformat_minor": 5
}
